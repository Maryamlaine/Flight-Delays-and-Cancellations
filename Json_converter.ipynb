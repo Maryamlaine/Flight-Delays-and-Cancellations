{
 "cells": [
  {
   "cell_type": "code",
   "execution_count": 37,
   "metadata": {},
   "outputs": [],
   "source": [
    "import csv\n",
    "import json\n",
    "import pandas as pd"
   ]
  },
  {
   "cell_type": "code",
   "execution_count": 29,
   "metadata": {},
   "outputs": [],
   "source": [
    "airline_list = []\n",
    "with open(\"dataset/airline.csv\") as airline:\n",
    "    csvReader = csv.DictReader(airline)\n",
    "    for row in csvReader:\n",
    "        data = {}\n",
    "        data['airline_id'] = row['Code']\n",
    "        data['airline_name'] = row['Description']\n",
    "        airline_list.append(data)"
   ]
  },
  {
   "cell_type": "code",
   "execution_count": 30,
   "metadata": {},
   "outputs": [],
   "source": [
    "with open(\"dataset/airline.json\", 'a') as json_airline:\n",
    "    json_airline.write(json.dumps(airline_list, indent=4))"
   ]
  },
  {
   "cell_type": "code",
   "execution_count": 33,
   "metadata": {},
   "outputs": [],
   "source": [
    "airport_list = []\n",
    "with open(\"dataset/airport.csv\") as airport:\n",
    "    csvReader = csv.DictReader(airport)\n",
    "    for row in csvReader:\n",
    "        data = {}\n",
    "        data['airport_id'] = row['airport_id']\n",
    "        data['airport_code'] = row['airport_code']\n",
    "        data['airport_name'] = row['airport_name']\n",
    "        data['address'] = row['address']\n",
    "        data['city'] = row['city']\n",
    "        data['state'] = row['state']\n",
    "        data['longitude'] = row['longitude']\n",
    "        data['latitude'] = row['latitude']\n",
    "        airport_list.append(data)"
   ]
  },
  {
   "cell_type": "code",
   "execution_count": 35,
   "metadata": {},
   "outputs": [],
   "source": [
    "with open(\"dataset/airport.json\", 'a') as json_airline:\n",
    "    json_airline.write(json.dumps(airport_list, indent=4))"
   ]
  },
  {
   "cell_type": "code",
   "execution_count": 38,
   "metadata": {},
   "outputs": [],
   "source": [
    "flight_2020 = pd.read_csv(\"dataset/flights_2020.csv\")\n",
    "flight_2020[\"flight_id\"] = range(1, len(flight_2020)+1)\n",
    "flight_2020.columns = map(str.lower, flight_2020.columns)\n",
    "flight_2020 = flight_2020[[\"flight_id\", \"fl_date\",\"op_unique_carrier\", \"origin_airport_id\", \"dest_airport_id\", \"dep_delay\", \n",
    "                           \"arr_delay\", \"cancelled\", \"cancellation_code\"]]\n",
    "flight_2020.columns = ['flight_id', 'flight_date', 'airline_code', 'departure_airport', 'arrival_airport',\n",
    "                    'departure_delay', 'arrival_delay', 'cancelled', 'cancellation_code']\n",
    "flight_2020['flight_date'] = pd.to_datetime(flight_2020['flight_date']).dt.strftime('%Y-%m-%d')"
   ]
  },
  {
   "cell_type": "code",
   "execution_count": 42,
   "metadata": {},
   "outputs": [],
   "source": [
    "flight_2020.to_json('dataset/flight_2020.json', orient='records', lines=True)"
   ]
  },
  {
   "cell_type": "code",
   "execution_count": 43,
   "metadata": {},
   "outputs": [],
   "source": [
    "flights_2019 = pd.read_csv(\"dataset/flights_2019.csv\")\n",
    "flights_2019[\"flight_id\"] = range(1, len(flights_2019)+1)\n",
    "flights_2019.columns = map(str.lower, flights_2019.columns)\n",
    "flights_2019 = flights_2019[[\"flight_id\", \"fl_date\",\"op_unique_carrier\", \"origin_airport_id\", \"dest_airport_id\", \"dep_delay\", \n",
    "                           \"arr_delay\", \"cancelled\", \"cancellation_code\"]]\n",
    "flights_2019.columns = ['flight_id', 'flight_date', 'airline_code', 'departure_airport', 'arrival_airport',\n",
    "                    'departure_delay', 'arrival_delay', 'cancelled', 'cancellation_code']\n",
    "flights_2019['flight_date'] = pd.to_datetime(flights_2019['flight_date']).dt.strftime('%Y-%m-%d')"
   ]
  },
  {
   "cell_type": "code",
   "execution_count": 44,
   "metadata": {},
   "outputs": [],
   "source": [
    "flights_2019.to_json('dataset/flights_2019.json', orient='records', lines=True)"
   ]
  },
  {
   "cell_type": "code",
   "execution_count": null,
   "metadata": {},
   "outputs": [],
   "source": []
  }
 ],
 "metadata": {
  "kernelspec": {
   "display_name": "Python 3",
   "language": "python",
   "name": "python3"
  },
  "language_info": {
   "codemirror_mode": {
    "name": "ipython",
    "version": 3
   },
   "file_extension": ".py",
   "mimetype": "text/x-python",
   "name": "python",
   "nbconvert_exporter": "python",
   "pygments_lexer": "ipython3",
   "version": "3.7.6"
  }
 },
 "nbformat": 4,
 "nbformat_minor": 4
}
